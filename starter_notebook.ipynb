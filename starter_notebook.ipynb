{
  "cells": [
    {
      "cell_type": "markdown",
      "metadata": {
        "id": "view-in-github",
        "colab_type": "text"
      },
      "source": [
        "<a href=\"https://colab.research.google.com/github/unin-student/ISYS5002---Assignment-2/blob/main/starter_notebook.ipynb\" target=\"_parent\"><img src=\"https://colab.research.google.com/assets/colab-badge.svg\" alt=\"Open In Colab\"/></a>"
      ]
    },
    {
      "cell_type": "markdown",
      "id": "fa8c7f6c",
      "metadata": {
        "id": "fa8c7f6c"
      },
      "source": [
        "## 🧰 Setup and Imports\n",
        "\n",
        "This section imports commonly used packages and installs any additional tools used in the project.\n",
        "\n",
        "- You may not need all of these unless you're using specific features (e.g. visualisations, advanced prompting).\n",
        "- The notebook assumes the following packages are **pre-installed** in the provided environment or installable via pip:\n",
        "  - `requests`, `matplotlib`, `pyinputplus`\n",
        "  - `fetch-my-weather` (for accessing weather data easily)\n",
        "  - `hands-on-ai` (for AI logging, comparisons, or prompting tools)\n",
        "\n",
        "If you're running this notebook in **Google Colab**, uncomment the following lines to install the required packages.\n"
      ]
    },
    {
      "cell_type": "code",
      "execution_count": null,
      "id": "70c3f3f1",
      "metadata": {
        "id": "70c3f3f1",
        "collapsed": true
      },
      "outputs": [],
      "source": [
        "!pip install fetch-my-weather\n",
        "!pip install hands-on-ai\n",
        "!pip install pyinputplus"
      ]
    },
    {
      "cell_type": "code",
      "source": [
        "import os\n",
        "\n",
        "os.environ['HANDS_ON_AI_SERVER'] = 'http://ollama.serveur.au'\n",
        "os.environ['HANDS_ON_AI_MODEL'] = 'granite3.2'\n",
        "os.environ['HANDS_ON_AI_API_KEY'] = input('Enter your API key: ')\n"
      ],
      "metadata": {
        "id": "B2JKlJfrGgIb"
      },
      "id": "B2JKlJfrGgIb",
      "execution_count": null,
      "outputs": []
    },
    {
      "cell_type": "markdown",
      "id": "59ae7543",
      "metadata": {
        "id": "59ae7543"
      },
      "source": [
        "## 📦 Setup and Configuration\n",
        "Import required packages and setup environment."
      ]
    },
    {
      "cell_type": "code",
      "execution_count": null,
      "id": "f1dd051e",
      "metadata": {
        "id": "f1dd051e"
      },
      "outputs": [],
      "source": [
        "import os\n",
        "import json\n",
        "import logging\n",
        "import requests\n",
        "import pyinputplus as pyip\n",
        "import matplotlib.pyplot as plt\n",
        "from datetime import datetime\n",
        "from collections import defaultdict\n",
        "\n",
        "\n",
        "OPENWEATHER_API_KEY = os.getenv(\"OPENWEATHER_API_KEY\")\n",
        "if not OPENWEATHER_API_KEY:\n",
        "    OPENWEATHER_API_KEY = pyip.inputStr(\"Enter your OpenWeather API key:\\n\")\n",
        "    os.environ[\"OPENWEATHER_API_KEY\"] = OPENWEATHER_API_KEY\n"
      ]
    },
    {
      "cell_type": "markdown",
      "id": "f736ade3",
      "metadata": {
        "id": "f736ade3"
      },
      "source": [
        "## 🌤️ Weather Data Functions"
      ]
    },
    {
      "cell_type": "code",
      "execution_count": null,
      "id": "7a2c7cd0",
      "metadata": {
        "id": "7a2c7cd0"
      },
      "outputs": [],
      "source": [
        "def get_weather_data(location, forecast_days=5, display=True):\n",
        "    \"\"\"\n",
        "    Fetch and optionally display weather forecast in a daily list format.\n",
        "\n",
        "    Args:\n",
        "        location (str): City or location name.\n",
        "        forecast_days (int): Number of days (1–5) to retrieve.\n",
        "        display (bool): If True, prints a formatted list summary.\n",
        "\n",
        "    Returns:\n",
        "        dict | None: Dictionary with 'current' and 'forecast' JSON data.\n",
        "    \"\"\"\n",
        "    api_key = os.getenv(\"OPENWEATHER_API_KEY\")\n",
        "    if not api_key:\n",
        "        print(\"Missing OPENWEATHER_API_KEY.\")\n",
        "        return None\n",
        "\n",
        "    forecast_days = max(1, min(5, int(forecast_days or 1)))  # clamp to 1–5\n",
        "    base = \"http://api.openweathermap.org/data/2.5/\"\n",
        "\n",
        "    try:\n",
        "        # Step 1: Get coordinates via current weather\n",
        "        geocode_url = f\"{base}weather?q={location}&appid={api_key}&units=metric\"\n",
        "        r = requests.get(geocode_url, timeout=15)\n",
        "        r.raise_for_status()\n",
        "        geo = r.json()\n",
        "        if str(geo.get(\"cod\", \"200\")) != \"200\":\n",
        "            print(f\"Error: {geo.get('message', 'unknown error')}\")\n",
        "            return None\n",
        "\n",
        "        lat, lon = geo[\"coord\"][\"lat\"], geo[\"coord\"][\"lon\"]\n",
        "\n",
        "        # Step 2: Fetch forecast data\n",
        "        fc_url = f\"{base}forecast?lat={lat}&lon={lon}&appid={api_key}&units=metric\"\n",
        "        fr = requests.get(fc_url, timeout=15)\n",
        "        fr.raise_for_status()\n",
        "        forecast = fr.json()\n",
        "\n",
        "        # Limit forecast to selected number of days (8 * day = 3-hour slots)\n",
        "        slots = forecast_days * 8\n",
        "        forecast[\"list\"] = forecast.get(\"list\", [])[:slots]\n",
        "\n",
        "        # Step 3: Group forecast by day\n",
        "        daily_data = defaultdict(list)\n",
        "        for entry in forecast[\"list\"]:\n",
        "            date_str = entry[\"dt_txt\"].split(\" \")[0]\n",
        "            daily_data[date_str].append(entry)\n",
        "\n",
        "        # Step 4: Create summarized daily list\n",
        "        summary = []\n",
        "        for date, entries in daily_data.items():\n",
        "            temps = [e[\"main\"][\"temp\"] for e in entries]\n",
        "            conditions = [e[\"weather\"][0][\"description\"] for e in entries]\n",
        "            avg_temp = sum(temps) / len(temps)\n",
        "            main_condition = max(set(conditions), key=conditions.count)  # most common condition\n",
        "            summary.append({\n",
        "                \"date\": date,\n",
        "                \"avg_temp\": round(avg_temp, 1),\n",
        "                \"condition\": main_condition.title()\n",
        "            })\n",
        "\n",
        "        # Step 5: Display summary\n",
        "        if display:\n",
        "            print(f\"\\n📍 Weather Forecast for {geo['name']} ({forecast_days}-day outlook):\")\n",
        "            print(\"-\" * 50)\n",
        "            for day in summary:\n",
        "                date_obj = datetime.strptime(day[\"date\"], \"%Y-%m-%d\")\n",
        "                date_label = date_obj.strftime(\"%a, %d %b %Y\")\n",
        "                print(f\"📅 {date_label}\")\n",
        "                print(f\"   🌡️  Avg Temp: {day['avg_temp']}°C\")\n",
        "                print(f\"   ☁️  Condition: {day['condition']}\")\n",
        "                print(\"-\" * 50)\n",
        "\n",
        "        return {\"current\": geo, \"forecast\": forecast, \"summary\": summary}\n",
        "\n",
        "    except requests.HTTPError as e:\n",
        "        print(f\"HTTP error: {e}\")\n",
        "    except Exception as e:\n",
        "        print(f\"Unexpected error: {e}\")\n",
        "    return None"
      ]
    },
    {
      "cell_type": "markdown",
      "id": "8a744fdc",
      "metadata": {
        "id": "8a744fdc"
      },
      "source": [
        "## 📊 Visualisation Functions"
      ]
    },
    {
      "cell_type": "code",
      "execution_count": null,
      "id": "9dc3bf85",
      "metadata": {
        "id": "9dc3bf85"
      },
      "outputs": [],
      "source": [
        "def create_temperature_visualisation(weather_data, output_type='display'):\n",
        "    \"\"\"\n",
        "    Create a temperature visualization from weather forecast data.\n",
        "\n",
        "    Color code:\n",
        "    - Red: temperature > 25°C\n",
        "    - Blue: temperature < 15°C\n",
        "    - Green: 15°C ≤ temperature ≤ 25°C\n",
        "    \"\"\"\n",
        "    if not weather_data or 'forecast' not in weather_data:\n",
        "        print(\"No weather data available for temperature visualization.\")\n",
        "        return None\n",
        "\n",
        "    forecast_list = weather_data['forecast']['list']\n",
        "    dates = [item['dt_txt'] for item in forecast_list]\n",
        "    temperatures = [item['main']['temp'] for item in forecast_list]\n",
        "\n",
        "    # Assign colors based on temperature thresholds\n",
        "    colors = [\n",
        "        'red' if temp > 25 else\n",
        "        'blue' if temp < 15 else\n",
        "        'green'\n",
        "        for temp in temperatures\n",
        "    ]\n",
        "\n",
        "    fig, ax = plt.subplots(figsize=(12, 6))\n",
        "\n",
        "    # Draw colored segments between points for better continuity\n",
        "    for i in range(1, len(dates)):\n",
        "        ax.plot(\n",
        "            dates[i-1:i+1],\n",
        "            temperatures[i-1:i+1],\n",
        "            color=colors[i],\n",
        "            linewidth=2\n",
        "        )\n",
        "\n",
        "    # Plot points on top for clarity\n",
        "    ax.scatter(dates, temperatures, c=colors, s=50, edgecolor='black')\n",
        "\n",
        "    ax.set_title('Temperature Forecast')\n",
        "    ax.set_xlabel('Date and Time')\n",
        "    ax.set_ylabel('Temperature (°C)')\n",
        "    ax.tick_params(axis='x', rotation=45)\n",
        "    plt.grid(True)\n",
        "    plt.tight_layout()\n",
        "\n",
        "    if output_type == 'figure':\n",
        "        return fig\n",
        "    else:\n",
        "        plt.show()\n"
      ]
    },
    {
      "cell_type": "code",
      "source": [
        "def create_precipitation_visualisation(weather_data, output_type='display'):\n",
        "    \"\"\"\n",
        "    Creates a precipitation bar chart.\n",
        "    Shows 'NO RAIN' vertically above days with zero precipitation.\n",
        "    \"\"\"\n",
        "    if not weather_data or 'forecast' not in weather_data:\n",
        "        print(\"No weather data available for precipitation visualization.\")\n",
        "        return None\n",
        "\n",
        "    forecast_list = weather_data['forecast']['list']\n",
        "    dates = [item['dt_txt'] for item in forecast_list]\n",
        "\n",
        "    # Combine rain + snow per forecast entry (3-hour intervals)\n",
        "    precipitation = [\n",
        "        item.get('rain', {}).get('3h', 0) + item.get('snow', {}).get('3h', 0)\n",
        "        for item in forecast_list\n",
        "    ]\n",
        "\n",
        "    fig, ax = plt.subplots(figsize=(12, 6))\n",
        "    bars = ax.bar(\n",
        "        dates,\n",
        "        precipitation,\n",
        "        color=['skyblue' if p > 0 else 'lightgray' for p in precipitation]\n",
        "    )\n",
        "\n",
        "    # Add vertical “NO RAIN” labels for zero-precipitation bars\n",
        "    for i, (bar, value) in enumerate(zip(bars, precipitation)):\n",
        "        if value == 0:\n",
        "            ax.text(\n",
        "                bar.get_x() + bar.get_width() / 2,\n",
        "                bar.get_height() + 0.05,\n",
        "                \"NO\\nRAIN\",  # newline makes it stack vertically\n",
        "                ha='center',\n",
        "                va='bottom',\n",
        "                fontsize=8,\n",
        "                color='gray',\n",
        "                fontweight='bold',\n",
        "                rotation=90  # ensures vertical orientation\n",
        "            )\n",
        "\n",
        "    ax.set_title('Precipitation Forecast (mm in last 3 hours)')\n",
        "    ax.set_xlabel('Date and Time')\n",
        "    ax.set_ylabel('Precipitation (mm)')\n",
        "    ax.tick_params(axis='x', rotation=45)\n",
        "    plt.grid(axis='y', linestyle='--', alpha=0.6)\n",
        "    plt.tight_layout()\n",
        "\n",
        "    if output_type == 'figure':\n",
        "        return fig\n",
        "    else:\n",
        "        plt.show()"
      ],
      "metadata": {
        "id": "HpOlQylYG5Ho"
      },
      "id": "HpOlQylYG5Ho",
      "execution_count": null,
      "outputs": []
    },
    {
      "cell_type": "markdown",
      "id": "9f95d160",
      "metadata": {
        "id": "9f95d160"
      },
      "source": [
        "## 🤖 Natural Language Processing"
      ]
    },
    {
      "cell_type": "code",
      "execution_count": null,
      "id": "bcc5833e",
      "metadata": {
        "id": "bcc5833e"
      },
      "outputs": [],
      "source": [
        "def parse_weather_question(question):\n",
        "    try:\n",
        "        # Assuming get_response can take a system message and user message\n",
        "        response = get_response(prompt)\n",
        "        # Attempt to parse the response as JSON\n",
        "        import json\n",
        "        parsed_data = json.loads(response)\n",
        "        return parsed_data\n",
        "    except Exception as e:\n",
        "        print(f\"Error parsing weather question: {e}\")\n",
        "        return None"
      ]
    },
    {
      "cell_type": "markdown",
      "id": "0d85225e",
      "metadata": {
        "id": "0d85225e"
      },
      "source": [
        "## 🧭 User Interface"
      ]
    },
    {
      "cell_type": "code",
      "metadata": {
        "id": "ff0896c7"
      },
      "source": [
        "def main_menu():\n",
        "  print(\"Welcome to WeatherWise!\")\n",
        "  choices = ['Get Weather Forecast', 'Ask a Weather Question', 'View Visualisations', 'Exit']\n",
        "  response = pyip.inputMenu(choices, prompt='Please select an option:\\n', numbered=True)\n",
        "  return response\n",
        "def get_location_input():\n",
        "  location = pyip.inputStr(prompt='Enter the city or location:\\n')\n",
        "  return location\n",
        "def get_forecast_days_input():\n",
        "  days = pyip.inputInt(prompt='Enter the number of forecast days (1-5):\\n', min=1, max=5)\n",
        "  return days\n",
        "def get_weather_question_input():\n",
        "  question = pyip.inputStr(prompt='Enter your weather question:\\n')\n",
        "  return question"
      ],
      "id": "ff0896c7",
      "execution_count": null,
      "outputs": []
    },
    {
      "cell_type": "markdown",
      "id": "d643a53c",
      "metadata": {
        "id": "d643a53c"
      },
      "source": [
        "## 🧩 Main Application Logic"
      ]
    },
    {
      "cell_type": "code",
      "execution_count": null,
      "id": "a9e2e805",
      "metadata": {
        "id": "a9e2e805"
      },
      "outputs": [],
      "source": [
        "def generate_weather_response(parsed_question, weather_data):\n",
        "    if not parsed_question or not weather_data:\n",
        "        return \"I could not understand your question or retrieve weather data.\"\n",
        "\n",
        "    location = parsed_question.get(\"location\")\n",
        "    time_period = parsed_question.get(\"time_period\")\n",
        "    weather_attribute = parsed_question.get(\"weather_attribute\")\n",
        "\n",
        "    try:\n",
        "        response = get_response(prompt)\n",
        "        return response\n",
        "    except Exception as e:\n",
        "        print(f\"Error generating weather response: {e}\")\n",
        "        return \"Sorry, I could not generate a response at this time.\""
      ]
    },
    {
      "cell_type": "markdown",
      "id": "fde44479",
      "metadata": {
        "id": "fde44479"
      },
      "source": [
        "## 🧪 Testing and Examples"
      ]
    },
    {
      "cell_type": "code",
      "metadata": {
        "id": "8dda38d8"
      },
      "source": [
        "def run_weather_advisor():\n",
        "    \"\"\"\n",
        "    Runs the main weather advisor application loop.\n",
        "    \"\"\"\n",
        "    while True:\n",
        "        choice = main_menu()\n",
        "\n",
        "        if choice == 'Get Weather Forecast':\n",
        "            location = get_location_input()\n",
        "            days = get_forecast_days_input()\n",
        "            weather_data = get_weather_data(location, days)\n",
        "            if weather_data:\n",
        "                print(\"\\nWeather Forecast:\")\n",
        "                # You can format and print the forecast data here\n",
        "                # For now, let's just print the raw data\n",
        "                import json\n",
        "                print(json.dumps(weather_data, indent=4))\n",
        "\n",
        "        elif choice == 'Ask a Weather Question':\n",
        "            question = get_weather_question_input()\n",
        "            # We need a location for the weather data, maybe ask for it here\n",
        "            location = get_location_input() # Assuming location is needed for the question as well\n",
        "            weather_data = get_weather_data(location) # Fetch weather data for the location\n",
        "            parsed_question = parse_weather_question(question)\n",
        "            response = generate_weather_response(parsed_question, weather_data)\n",
        "            print(f\"\\nWeather Advisor says: {response}\")\n",
        "\n",
        "        elif choice == 'View Visualisations':\n",
        "            location = get_location_input()\n",
        "            days = get_forecast_days_input() # Get days for forecast data needed for visualization\n",
        "            weather_data = get_weather_data(location, days)\n",
        "            if weather_data:\n",
        "                print(\"\\nGenerating Visualisations...\")\n",
        "                create_temperature_visualisation(weather_data)\n",
        "                create_precipitation_visualisation(weather_data)\n",
        "\n",
        "        elif choice == 'Exit':\n",
        "            print(\"Thank you for using WeatherWise!\")\n",
        "            break\n",
        "\n",
        "if __name__ == \"__main__\":\n",
        "    run_weather_advisor()"
      ],
      "id": "8dda38d8",
      "execution_count": null,
      "outputs": []
    },
    {
      "cell_type": "markdown",
      "id": "d2885880",
      "metadata": {
        "id": "d2885880"
      },
      "source": [
        "## 🗂️ AI Prompting Log\n",
        "https://github.com/unin-student/ISYS5002---Assignment-2/tree/acb75be3b890478c3efd522d5d0e4e3a0f07c59a/ai-conversations"
      ]
    }
  ],
  "metadata": {
    "language_info": {
      "name": "python"
    },
    "colab": {
      "provenance": [],
      "include_colab_link": true
    },
    "kernelspec": {
      "name": "python3",
      "display_name": "Python 3"
    }
  },
  "nbformat": 4,
  "nbformat_minor": 5
}